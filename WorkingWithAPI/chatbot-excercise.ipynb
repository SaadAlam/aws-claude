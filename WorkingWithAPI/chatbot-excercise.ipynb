{
 "cells": [
  {
   "cell_type": "code",
   "execution_count": 2,
   "id": "2396691e",
   "metadata": {},
   "outputs": [],
   "source": [
    "import boto3"
   ]
  },
  {
   "cell_type": "code",
   "execution_count": 3,
   "id": "73657831",
   "metadata": {},
   "outputs": [],
   "source": [
    "client = boto3.client('bedrock-runtime', region_name='eu-central-1')\n",
    "model_id = \"eu.anthropic.claude-3-haiku-20240307-v1:0\"\n",
    "\n",
    "def add_user_message(messages, text):\n",
    "    user_message =  {\n",
    "        \"role\": \"user\",\n",
    "        \"content\": [\n",
    "            {\"text\": text}\n",
    "        ],\n",
    "    }   \n",
    "    messages.append(user_message)\n",
    "\n",
    "def add_assitant_message(messages, text):\n",
    "    assitant_message =  {\n",
    "        \"role\": \"assistant\",\n",
    "        \"content\": [\n",
    "            {\"text\": text}\n",
    "        ],\n",
    "    }   \n",
    "    messages.append(assitant_message)\n",
    "\n",
    "def chat(messages):\n",
    "    response = client.converse(\n",
    "        modelId=model_id,\n",
    "        messages= messages,\n",
    "    )\n",
    "    return response[\"output\"][\"message\"][\"content\"][0][\"text\"]"
   ]
  },
  {
   "cell_type": "code",
   "execution_count": 6,
   "id": "320c66e5",
   "metadata": {},
   "outputs": [
    {
     "name": "stdout",
     "output_type": "stream",
     "text": [
      "> You: One sentence fifa 2022 worldcup about\n",
      "Claude:  The 2022 FIFA World Cup in Qatar showcased the global talent and passion for the beautiful game, with Argentina emerging victorious after defeating France in a thrilling final.\n",
      "> You: how did messi did ?\n",
      "Claude:  Lionel Messi had an outstanding performance at the 2022 FIFA World Cup, leading Argentina to their first World Cup triumph since 1986.\n",
      "\n",
      "Some key highlights of Messi's performance:\n",
      "\n",
      "- Messi was instrumental in Argentina's run to the final, scoring 7 goals and providing 3 assists throughout the tournament.\n",
      "\n",
      "- He scored in the final against France, opening the scoring in a game that ended 3-3 after extra time before Argentina won on penalties.\n",
      "\n",
      "- Messi was awarded the Golden Ball as the tournament's best player, cementing his legacy as one of the all-time greats of the game.\n",
      "\n",
      "- At 35 years old, this was Messi's first World Cup title, finally winning the one major trophy that had eluded him in his illustrious career.\n",
      "\n",
      "- His captain's leadership and inspirational performances were crucial in guiding Argentina to their third World Cup championship.\n",
      "\n",
      "Overall, Messi delivered a masterclass performance to help Argentina lift the coveted World Cup trophy, capping off an incredible career achievement.\n",
      "> You: what were his stats?\n",
      "Claude:  Here are Lionel Messi's stats at the 2022 FIFA World Cup:\n",
      "\n",
      "Appearances: 7 \n",
      "Goals: 7\n",
      "Assists: 3\n",
      "Minutes Played: 686\n",
      "\n",
      "Messi was directly involved in 10 of Argentina's 21 goals scored in the tournament. His standout performances included:\n",
      "\n",
      "- Group Stage: 1 goal, 1 assist\n",
      "- Round of 16: 1 goal, 1 assist\n",
      "- Quarterfinals: 1 goal\n",
      "- Semifinals: 1 goal\n",
      "- Final: 1 goal, 1 assist\n",
      "\n",
      "He scored crucial goals in the knockout rounds against the Netherlands, Croatia and France.\n",
      "\n",
      "Messi also created numerous chances for his teammates, showcasing his world-class playmaking abilities throughout the World Cup.\n",
      "\n",
      "His penalty conversion in the final shootout against France was the decisive moment that sealed Argentina's third World Cup title.\n",
      "\n",
      "Overall, Messi's impressive goal contributions, assists and leadership were instrumental in Argentina's historic World Cup triumph. He cemented his status as one of the greatest players of all time with this long-awaited first World Cup victory.\n",
      "> You: \n"
     ]
    },
    {
     "ename": "ValidationException",
     "evalue": "An error occurred (ValidationException) when calling the Converse operation: The text field in the ContentBlock object at messages.6.content.0 is blank. Add text to the text field, and try again.",
     "output_type": "error",
     "traceback": [
      "\u001b[31m---------------------------------------------------------------------------\u001b[39m",
      "\u001b[31mValidationException\u001b[39m                       Traceback (most recent call last)",
      "\u001b[36mCell\u001b[39m\u001b[36m \u001b[39m\u001b[32mIn[6]\u001b[39m\u001b[32m, line 7\u001b[39m\n\u001b[32m      5\u001b[39m \u001b[38;5;28mprint\u001b[39m(\u001b[33mf\u001b[39m\u001b[33m\"\u001b[39m\u001b[33m> You: \u001b[39m\u001b[38;5;132;01m{\u001b[39;00muser_input\u001b[38;5;132;01m}\u001b[39;00m\u001b[33m\"\u001b[39m)\n\u001b[32m      6\u001b[39m add_user_message(messages, user_input)\n\u001b[32m----> \u001b[39m\u001b[32m7\u001b[39m answer = \u001b[43mchat\u001b[49m\u001b[43m(\u001b[49m\u001b[43mmessages\u001b[49m\u001b[43m)\u001b[49m\n\u001b[32m      8\u001b[39m add_assitant_message(messages, answer)\n\u001b[32m      9\u001b[39m \u001b[38;5;28mprint\u001b[39m(\u001b[33m\"\u001b[39m\u001b[33mClaude: \u001b[39m\u001b[33m\"\u001b[39m, answer)\n",
      "\u001b[36mCell\u001b[39m\u001b[36m \u001b[39m\u001b[32mIn[3]\u001b[39m\u001b[32m, line 23\u001b[39m, in \u001b[36mchat\u001b[39m\u001b[34m(messages)\u001b[39m\n\u001b[32m     22\u001b[39m \u001b[38;5;28;01mdef\u001b[39;00m\u001b[38;5;250m \u001b[39m\u001b[34mchat\u001b[39m(messages):\n\u001b[32m---> \u001b[39m\u001b[32m23\u001b[39m     response = \u001b[43mclient\u001b[49m\u001b[43m.\u001b[49m\u001b[43mconverse\u001b[49m\u001b[43m(\u001b[49m\n\u001b[32m     24\u001b[39m \u001b[43m        \u001b[49m\u001b[43mmodelId\u001b[49m\u001b[43m=\u001b[49m\u001b[43mmodel_id\u001b[49m\u001b[43m,\u001b[49m\n\u001b[32m     25\u001b[39m \u001b[43m        \u001b[49m\u001b[43mmessages\u001b[49m\u001b[43m=\u001b[49m\u001b[43m \u001b[49m\u001b[43mmessages\u001b[49m\u001b[43m,\u001b[49m\n\u001b[32m     26\u001b[39m \u001b[43m    \u001b[49m\u001b[43m)\u001b[49m\n\u001b[32m     27\u001b[39m     \u001b[38;5;28;01mreturn\u001b[39;00m response[\u001b[33m\"\u001b[39m\u001b[33moutput\u001b[39m\u001b[33m\"\u001b[39m][\u001b[33m\"\u001b[39m\u001b[33mmessage\u001b[39m\u001b[33m\"\u001b[39m][\u001b[33m\"\u001b[39m\u001b[33mcontent\u001b[39m\u001b[33m\"\u001b[39m][\u001b[32m0\u001b[39m][\u001b[33m\"\u001b[39m\u001b[33mtext\u001b[39m\u001b[33m\"\u001b[39m]\n",
      "\u001b[36mFile \u001b[39m\u001b[32m~/aws-ai/.venv/lib/python3.11/site-packages/botocore/client.py:602\u001b[39m, in \u001b[36mClientCreator._create_api_method.<locals>._api_call\u001b[39m\u001b[34m(self, *args, **kwargs)\u001b[39m\n\u001b[32m    598\u001b[39m     \u001b[38;5;28;01mraise\u001b[39;00m \u001b[38;5;167;01mTypeError\u001b[39;00m(\n\u001b[32m    599\u001b[39m         \u001b[33mf\u001b[39m\u001b[33m\"\u001b[39m\u001b[38;5;132;01m{\u001b[39;00mpy_operation_name\u001b[38;5;132;01m}\u001b[39;00m\u001b[33m() only accepts keyword arguments.\u001b[39m\u001b[33m\"\u001b[39m\n\u001b[32m    600\u001b[39m     )\n\u001b[32m    601\u001b[39m \u001b[38;5;66;03m# The \"self\" in this scope is referring to the BaseClient.\u001b[39;00m\n\u001b[32m--> \u001b[39m\u001b[32m602\u001b[39m \u001b[38;5;28;01mreturn\u001b[39;00m \u001b[38;5;28;43mself\u001b[39;49m\u001b[43m.\u001b[49m\u001b[43m_make_api_call\u001b[49m\u001b[43m(\u001b[49m\u001b[43moperation_name\u001b[49m\u001b[43m,\u001b[49m\u001b[43m \u001b[49m\u001b[43mkwargs\u001b[49m\u001b[43m)\u001b[49m\n",
      "\u001b[36mFile \u001b[39m\u001b[32m~/aws-ai/.venv/lib/python3.11/site-packages/botocore/context.py:123\u001b[39m, in \u001b[36mwith_current_context.<locals>.decorator.<locals>.wrapper\u001b[39m\u001b[34m(*args, **kwargs)\u001b[39m\n\u001b[32m    121\u001b[39m \u001b[38;5;28;01mif\u001b[39;00m hook:\n\u001b[32m    122\u001b[39m     hook()\n\u001b[32m--> \u001b[39m\u001b[32m123\u001b[39m \u001b[38;5;28;01mreturn\u001b[39;00m \u001b[43mfunc\u001b[49m\u001b[43m(\u001b[49m\u001b[43m*\u001b[49m\u001b[43margs\u001b[49m\u001b[43m,\u001b[49m\u001b[43m \u001b[49m\u001b[43m*\u001b[49m\u001b[43m*\u001b[49m\u001b[43mkwargs\u001b[49m\u001b[43m)\u001b[49m\n",
      "\u001b[36mFile \u001b[39m\u001b[32m~/aws-ai/.venv/lib/python3.11/site-packages/botocore/client.py:1078\u001b[39m, in \u001b[36mBaseClient._make_api_call\u001b[39m\u001b[34m(self, operation_name, api_params)\u001b[39m\n\u001b[32m   1074\u001b[39m     error_code = request_context.get(\n\u001b[32m   1075\u001b[39m         \u001b[33m'\u001b[39m\u001b[33merror_code_override\u001b[39m\u001b[33m'\u001b[39m\n\u001b[32m   1076\u001b[39m     ) \u001b[38;5;129;01mor\u001b[39;00m error_info.get(\u001b[33m\"\u001b[39m\u001b[33mCode\u001b[39m\u001b[33m\"\u001b[39m)\n\u001b[32m   1077\u001b[39m     error_class = \u001b[38;5;28mself\u001b[39m.exceptions.from_code(error_code)\n\u001b[32m-> \u001b[39m\u001b[32m1078\u001b[39m     \u001b[38;5;28;01mraise\u001b[39;00m error_class(parsed_response, operation_name)\n\u001b[32m   1079\u001b[39m \u001b[38;5;28;01melse\u001b[39;00m:\n\u001b[32m   1080\u001b[39m     \u001b[38;5;28;01mreturn\u001b[39;00m parsed_response\n",
      "\u001b[31mValidationException\u001b[39m: An error occurred (ValidationException) when calling the Converse operation: The text field in the ContentBlock object at messages.6.content.0 is blank. Add text to the text field, and try again."
     ]
    }
   ],
   "source": [
    "messages = []\n",
    "\n",
    "while True:\n",
    "    user_input = input(\"You: \")\n",
    "    print(f\"> You: {user_input}\")\n",
    "    add_user_message(messages, user_input)\n",
    "    answer = chat(messages)\n",
    "    add_assitant_message(messages, answer)\n",
    "    print(\"Claude: \", answer)"
   ]
  }
 ],
 "metadata": {
  "kernelspec": {
   "display_name": ".venv (3.11.11)",
   "language": "python",
   "name": "python3"
  },
  "language_info": {
   "codemirror_mode": {
    "name": "ipython",
    "version": 3
   },
   "file_extension": ".py",
   "mimetype": "text/x-python",
   "name": "python",
   "nbconvert_exporter": "python",
   "pygments_lexer": "ipython3",
   "version": "3.11.11"
  }
 },
 "nbformat": 4,
 "nbformat_minor": 5
}
