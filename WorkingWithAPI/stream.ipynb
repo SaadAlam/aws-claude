{
 "cells": [
  {
   "cell_type": "code",
   "execution_count": 2,
   "id": "2396691e",
   "metadata": {},
   "outputs": [],
   "source": [
    "import boto3"
   ]
  },
  {
   "cell_type": "code",
   "execution_count": 3,
   "id": "73657831",
   "metadata": {},
   "outputs": [],
   "source": [
    "client = boto3.client('bedrock-runtime', region_name='eu-central-1')\n",
    "model_id = \"eu.anthropic.claude-3-haiku-20240307-v1:0\"\n",
    "\n",
    "def add_user_message(messages, text):\n",
    "    user_message =  {\n",
    "        \"role\": \"user\",\n",
    "        \"content\": [\n",
    "            {\"text\": text}\n",
    "        ],\n",
    "    }   \n",
    "    messages.append(user_message)\n",
    "\n",
    "def add_assitant_message(messages, text):\n",
    "    assitant_message =  {\n",
    "        \"role\": \"assistant\",\n",
    "        \"content\": [\n",
    "            {\"text\": text}\n",
    "        ],\n",
    "    }   \n",
    "    messages.append(assitant_message)\n",
    "\n",
    "def chat(messages, system_prompt=None):\n",
    "    params = {\"modelId\": model_id, \"messages\": messages}\n",
    "    if system_prompt:\n",
    "        params[\"system\"] = [{\"text\":system_prompt}]\n",
    "\n",
    "    inferenceConfig = {\n",
    "        \"temperature\": 0.7}\n",
    "\n",
    "    response = client.converse(**params, inferenceConfig=inferenceConfig)\n",
    "    \n",
    "    return response[\"output\"][\"message\"][\"content\"][0][\"text\"]"
   ]
  },
  {
   "cell_type": "code",
   "execution_count": 9,
   "id": "320c66e5",
   "metadata": {},
   "outputs": [
    {
     "name": "stdout",
     "output_type": "stream",
     "text": [
      "Lionel Messi's exceptional performance at the 2022 FIFA World Cup in Qatar, where he led his team, Argentina, to their third World Cup triumph, cemented his status as one of the greatest football players of all time.\n",
      "\n",
      "Full text:  Lionel Messi's exceptional performance at the 2022 FIFA World Cup in Qatar, where he led his team, Argentina, to their third World Cup triumph, cemented his status as one of the greatest football players of all time.\n"
     ]
    }
   ],
   "source": [
    "messages = []\n",
    "\n",
    "add_user_message(messages, \"Write a 1 sentence about Messi performance at 2022 Fifa World cup\")\n",
    "response = client.converse_stream(messages= messages, modelId= model_id)\n",
    "text = \"\"\n",
    "\n",
    "for event in response[\"stream\"]:\n",
    "    if \"contentBlockDelta\" in event:\n",
    "        chunk = event[\"contentBlockDelta\"][\"delta\"][\"text\"]\n",
    "        print(chunk, end='')\n",
    "        text += chunk\n",
    "\n",
    "print(\"\\n\\nFull text: \", text)"
   ]
  }
 ],
 "metadata": {
  "kernelspec": {
   "display_name": ".venv (3.11.11)",
   "language": "python",
   "name": "python3"
  },
  "language_info": {
   "codemirror_mode": {
    "name": "ipython",
    "version": 3
   },
   "file_extension": ".py",
   "mimetype": "text/x-python",
   "name": "python",
   "nbconvert_exporter": "python",
   "pygments_lexer": "ipython3",
   "version": "3.11.11"
  }
 },
 "nbformat": 4,
 "nbformat_minor": 5
}
