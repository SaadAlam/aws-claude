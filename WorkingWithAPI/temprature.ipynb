{
 "cells": [
  {
   "cell_type": "code",
   "execution_count": 1,
   "id": "2396691e",
   "metadata": {},
   "outputs": [],
   "source": [
    "import boto3"
   ]
  },
  {
   "cell_type": "code",
   "execution_count": 4,
   "id": "73657831",
   "metadata": {},
   "outputs": [],
   "source": [
    "client = boto3.client('bedrock-runtime', region_name='eu-central-1')\n",
    "model_id = \"eu.anthropic.claude-3-haiku-20240307-v1:0\"\n",
    "\n",
    "def add_user_message(messages, text):\n",
    "    user_message =  {\n",
    "        \"role\": \"user\",\n",
    "        \"content\": [\n",
    "            {\"text\": text}\n",
    "        ],\n",
    "    }   \n",
    "    messages.append(user_message)\n",
    "\n",
    "def add_assitant_message(messages, text):\n",
    "    assitant_message =  {\n",
    "        \"role\": \"assistant\",\n",
    "        \"content\": [\n",
    "            {\"text\": text}\n",
    "        ],\n",
    "    }   \n",
    "    messages.append(assitant_message)\n",
    "\n",
    "def chat(messages, system_prompt=None):\n",
    "    params = {\"modelId\": model_id, \"messages\": messages}\n",
    "    if system_prompt:\n",
    "        params[\"system\"] = [{\"text\":system_prompt}]\n",
    "\n",
    "    inferenceConfig = {\n",
    "        \"temperature\": 0.7}\n",
    "\n",
    "    response = client.converse(**params, inferenceConfig=inferenceConfig)\n",
    "    \n",
    "    return response[\"output\"][\"message\"][\"content\"][0][\"text\"]"
   ]
  },
  {
   "cell_type": "code",
   "execution_count": 5,
   "id": "320c66e5",
   "metadata": {},
   "outputs": [
    {
     "name": "stdout",
     "output_type": "stream",
     "text": [
      "def has_duplicates(string):\n",
      "    return len(string) != len(set(string))\n"
     ]
    }
   ],
   "source": [
    "messages = []\n",
    "\n",
    "add_user_message(messages, \"Write a function that checks a string for duplicate characters.\")\n",
    "text = chat(messages, system_prompt=\"You are a Python expert. Provide only code in your answer. No comments, no explanations.\")\n",
    "print(text)"
   ]
  }
 ],
 "metadata": {
  "kernelspec": {
   "display_name": ".venv (3.11.11)",
   "language": "python",
   "name": "python3"
  },
  "language_info": {
   "codemirror_mode": {
    "name": "ipython",
    "version": 3
   },
   "file_extension": ".py",
   "mimetype": "text/x-python",
   "name": "python",
   "nbconvert_exporter": "python",
   "pygments_lexer": "ipython3",
   "version": "3.11.11"
  }
 },
 "nbformat": 4,
 "nbformat_minor": 5
}
