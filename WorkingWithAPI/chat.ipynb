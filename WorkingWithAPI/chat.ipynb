{
 "cells": [
  {
   "cell_type": "code",
   "execution_count": 3,
   "id": "2396691e",
   "metadata": {},
   "outputs": [],
   "source": [
    "import boto3"
   ]
  },
  {
   "cell_type": "code",
   "execution_count": 22,
   "id": "73657831",
   "metadata": {},
   "outputs": [],
   "source": [
    "client = boto3.client(\"bedrock-runtime\", region_name=\"eu-central-1\")\n",
    "model_id = \"eu.anthropic.claude-3-haiku-20240307-v1:0\"\n",
    "\n",
    "\n",
    "def add_user_message(messages, text):\n",
    "    user_message = {\n",
    "        \"role\": \"user\",\n",
    "        \"content\": [{\"text\": text}],\n",
    "    }\n",
    "    messages.append(user_message)\n",
    "\n",
    "\n",
    "def add_assitant_message(messages, text):\n",
    "    assitant_message = {\n",
    "        \"role\": \"assistant\",\n",
    "        \"content\": [{\"text\": text}],\n",
    "    }\n",
    "    messages.append(assitant_message)\n",
    "\n",
    "\n",
    "def chat(messages):\n",
    "    response = client.converse(\n",
    "        modelId=model_id,\n",
    "        messages=messages,\n",
    "    )\n",
    "    return response[\"output\"][\"message\"][\"content\"][0][\"text\"]"
   ]
  },
  {
   "cell_type": "code",
   "execution_count": 24,
   "id": "320c66e5",
   "metadata": {},
   "outputs": [
    {
     "data": {
      "text/plain": [
       "\"Okay, let's add 3 to the previous result of 1 + 2 = 3.\\n\\n3 + 3 = 6\\n\\nSo the final result is 6.\""
      ]
     },
     "execution_count": 24,
     "metadata": {},
     "output_type": "execute_result"
    }
   ],
   "source": [
    "messages = []\n",
    "add_user_message(messages, \"What is 1+2?\")\n",
    "\n",
    "answer = chat(messages)\n",
    "add_assitant_message(messages, answer)\n",
    "\n",
    "add_user_message(messages, \"Can you add 3 to that?\")\n",
    "answer = chat(messages)\n",
    "answer"
   ]
  }
 ],
 "metadata": {
  "kernelspec": {
   "display_name": ".venv (3.11.11)",
   "language": "python",
   "name": "python3"
  },
  "language_info": {
   "codemirror_mode": {
    "name": "ipython",
    "version": 3
   },
   "file_extension": ".py",
   "mimetype": "text/x-python",
   "name": "python",
   "nbconvert_exporter": "python",
   "pygments_lexer": "ipython3",
   "version": "3.11.11"
  }
 },
 "nbformat": 4,
 "nbformat_minor": 5
}
