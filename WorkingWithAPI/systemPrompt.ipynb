{
 "cells": [
  {
   "cell_type": "code",
   "execution_count": 1,
   "id": "2396691e",
   "metadata": {},
   "outputs": [],
   "source": [
    "import boto3"
   ]
  },
  {
   "cell_type": "code",
   "execution_count": 12,
   "id": "73657831",
   "metadata": {},
   "outputs": [],
   "source": [
    "client = boto3.client('bedrock-runtime', region_name='eu-central-1')\n",
    "model_id = \"eu.anthropic.claude-3-haiku-20240307-v1:0\"\n",
    "\n",
    "def add_user_message(messages, text):\n",
    "    user_message =  {\n",
    "        \"role\": \"user\",\n",
    "        \"content\": [\n",
    "            {\"text\": text}\n",
    "        ],\n",
    "    }   \n",
    "    messages.append(user_message)\n",
    "\n",
    "def add_assitant_message(messages, text):\n",
    "    assitant_message =  {\n",
    "        \"role\": \"assistant\",\n",
    "        \"content\": [\n",
    "            {\"text\": text}\n",
    "        ],\n",
    "    }   \n",
    "    messages.append(assitant_message)\n",
    "\n",
    "def chat(messages, system_prompt=None):\n",
    "    params = {\"modelId\": model_id, \"messages\": messages}\n",
    "    if system_prompt:\n",
    "        params[\"system\"] = [{\"text\":system_prompt}]\n",
    "\n",
    "    response = client.converse(**params)\n",
    "    \n",
    "    return response[\"output\"][\"message\"][\"content\"][0][\"text\"]"
   ]
  },
  {
   "cell_type": "code",
   "execution_count": 14,
   "id": "320c66e5",
   "metadata": {},
   "outputs": [
    {
     "name": "stdout",
     "output_type": "stream",
     "text": [
      "I apologize, but I do not have information on how to make bread, as that is not related to AWS services. As an AWS support agent, I can only provide information and assistance related to Amazon Web Services products and services.\n",
      "\n",
      "If you have a question about any AWS services, such as EC2, S3, Lambda, or others, I would be happy to try and assist you. However, for general cooking or baking instructions, I would suggest consulting a cookbook or online recipe resource. My expertise is limited to cloud computing services, not food preparation.\n"
     ]
    }
   ],
   "source": [
    "messages = []\n",
    "\n",
    "add_user_message(messages, \"How to make bread?\")\n",
    "text = chat(messages, system_prompt=\"You are an AWS support agent. Answer the question based on AWS services.\")\n",
    "print(text)"
   ]
  }
 ],
 "metadata": {
  "kernelspec": {
   "display_name": ".venv (3.11.11)",
   "language": "python",
   "name": "python3"
  },
  "language_info": {
   "codemirror_mode": {
    "name": "ipython",
    "version": 3
   },
   "file_extension": ".py",
   "mimetype": "text/x-python",
   "name": "python",
   "nbconvert_exporter": "python",
   "pygments_lexer": "ipython3",
   "version": "3.11.11"
  }
 },
 "nbformat": 4,
 "nbformat_minor": 5
}
